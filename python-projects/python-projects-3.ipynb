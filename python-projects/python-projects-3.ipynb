{
  "cells": [
    {
      "cell_type": "raw",
      "metadata": {},
      "source": [
        "---\n",
        "title: Water Pump Functionality Prediction\n",
        "format: html\n",
        "---"
      ],
      "id": "7236f7d8"
    },
    {
      "cell_type": "markdown",
      "metadata": {},
      "source": [
        "```{r}\n",
        "library(reticulate)\n",
        "use_python(\"C:/Users/jgpet/AppData/Local/Programs/Python/Python312/python.exe\", required = TRUE)\n",
        "\n",
        "```\n",
        "\n",
        "\n",
        "\n",
        "## Project Overview\n",
        "This project explores the use of machine learning to predict the functionality status of water pumps in rural areas. The dataset includes \n",
        "features such as water source, pump type, distance to town, population served, and funding organization.\n",
        "\n",
        "**Goal**: Build a predictive model to determine whether a water pump is functional or non-functional.\n"
      ],
      "id": "5f7dff6f"
    },
    {
      "cell_type": "code",
      "metadata": {},
      "source": [
        "# Import Libraries\n",
        "import pandas as pd\n",
        "import numpy as np\n",
        "import matplotlib.pyplot as plt\n",
        "import os\n",
        "from sklearn.preprocessing import StandardScaler\n",
        "from sklearn.model_selection import train_test_split\n",
        "from sklearn.metrics import classification_report, confusion_matrix\n",
        "from statsmodels.stats.outliers_influence import variance_inflation_factor\n",
        "from tensorflow.keras.models import Sequential\n",
        "from tensorflow.keras.layers import Dense, Dropout\n",
        "from tensorflow.keras.optimizers import Adam\n",
        "from tensorflow.keras.callbacks import EarlyStopping"
      ],
      "id": "f7545100",
      "execution_count": null,
      "outputs": []
    },
    {
      "cell_type": "markdown",
      "metadata": {},
      "source": [
        "## Set and Verify Working Directory\n",
        "\n",
        "Before loading the dataset, we confirm the current working directory and change it to the location where the cleaned data file is stored.\n"
      ],
      "id": "ac8f741d"
    },
    {
      "cell_type": "code",
      "metadata": {},
      "source": [
        "# Set and Verify Working Directory\n",
        "\n",
        "# PYthon library\n",
        "import os\n",
        "\n",
        "print(\"Current working directory:\", os.getcwd())\n",
        "\n",
        "os.chdir(r\"C:\\Users\\jgpet\\OneDrive\\Desktop\\Gradiate school\\2025\\DSCI 5240\\Final Project\")\n",
        "print(\"New working directory:\", os.getcwd())"
      ],
      "id": "95db8d0d",
      "execution_count": null,
      "outputs": []
    },
    {
      "cell_type": "markdown",
      "metadata": {},
      "source": [
        "## Load Dataset\n",
        "Set the working directory and load the cleaned dataset into memory.\n"
      ],
      "id": "e9a65def"
    },
    {
      "cell_type": "code",
      "metadata": {},
      "source": [
        "# Load Dataset\n",
        "Final_project = pd.read_csv(\"Final_project_clean.csv\", header=0)\n",
        "pd.set_option(\"display.max_columns\", None)"
      ],
      "id": "15098b25",
      "execution_count": null,
      "outputs": []
    },
    {
      "cell_type": "markdown",
      "metadata": {},
      "source": [
        "## Handle Outliers\n",
        "\n",
        "Use the IQR method to detect and cap outliers in numerical features:\n",
        "- Distance to Nearest Town\n",
        "- Population Served\n",
        "- Water Pump Age\n"
      ],
      "id": "63488eb2"
    },
    {
      "cell_type": "code",
      "metadata": {},
      "source": [
        "# Outlier Detection & Capping\n",
        "num_cols = ['Distance to Nearest Town', 'Population Served', 'Water Pump Age']\n",
        "\n",
        "for col in num_cols:\n",
        "    Q1 = Final_project[col].quantile(0.25)\n",
        "    Q3 = Final_project[col].quantile(0.75)\n",
        "    IQR = Q3 - Q1\n",
        "    lower_bound = Q1 - 1.5 * IQR\n",
        "    upper_bound = Q3 + 1.5 * IQR\n",
        "    Final_project[col] = Final_project[col].clip(lower=lower_bound, upper=upper_bound)\n",
        "\n",
        "# Clip distance values below 0 to 0\n",
        "Final_project['Distance to Nearest Town'] = Final_project['Distance to Nearest Town'].clip(lower=0)"
      ],
      "id": "59e56e9d",
      "execution_count": null,
      "outputs": []
    },
    {
      "cell_type": "markdown",
      "metadata": {},
      "source": [
        "## 🔤 Encode Categorical Variables\n",
        "\n",
        "- Binary encoding for Water Quality, Payment Type, and Functioning Status  \n",
        "- One-hot encoding for Water Source Type, Funder, Pump Type\n"
      ],
      "id": "922f3998"
    },
    {
      "cell_type": "code",
      "metadata": {},
      "source": [
        "# Encode Categorical Variables\n",
        "binary_map = {\n",
        "    'Water Quality': {'Clean': 0, 'Contaminated': 1},\n",
        "    'Payment Type': {'Free': 0, 'Pay per use': 1},\n",
        "    'Functioning Status': {'Not Functioning': 0, 'Functioning': 1}\n",
        "}\n",
        "df_encoded = Final_project.replace(binary_map)\n",
        "categorical_cols = ['Water Source Type', 'Funder', 'Pump Type']\n",
        "df_encoded = pd.get_dummies(df_encoded, columns=categorical_cols, drop_first=True)\n",
        "df_encoded = df_encoded.astype(int)"
      ],
      "id": "434494c7",
      "execution_count": null,
      "outputs": []
    },
    {
      "cell_type": "markdown",
      "metadata": {},
      "source": [
        "## 🧮 Variance Inflation Factor (VIF)\n",
        "\n",
        "Detect multicollinearity and remove features with VIF > 10 to improve model interpretability.\n"
      ],
      "id": "8b09b043"
    },
    {
      "cell_type": "code",
      "metadata": {},
      "source": [
        "# Define X and y\n",
        "y = df_encoded['Functioning Status']\n",
        "X = df_encoded.drop(columns='Functioning Status')\n",
        "\n",
        "# VIF for Feature Selection\n",
        "X_vif = X.astype(float)\n",
        "vif_data = pd.DataFrame()\n",
        "vif_data['Feature'] = X_vif.columns\n",
        "vif_data['VIF'] = [variance_inflation_factor(X_vif.values, i) for i in range(X_vif.shape[1])]\n",
        "\n",
        "# Drop high VIF features\n",
        "high_vif_features = ['Installation Year', 'Population Served']\n",
        "X_reduced = X.drop(columns=high_vif_features)"
      ],
      "id": "1ce56d5e",
      "execution_count": null,
      "outputs": []
    },
    {
      "cell_type": "markdown",
      "metadata": {},
      "source": [
        "## 📏 Feature Scaling\n",
        "\n",
        "Standardize numerical features to ensure they contribute equally to the model.\n"
      ],
      "id": "78e65fcf"
    },
    {
      "cell_type": "code",
      "metadata": {},
      "source": [
        "# Scaling\n",
        "\n",
        "scaler = StandardScaler()\n",
        "numeric_cols = ['Distance to Nearest Town', 'Water Pump Age']\n",
        "X_scaled = X_reduced.copy()\n",
        "X_scaled[numeric_cols] = scaler.fit_transform(X_scaled[numeric_cols])"
      ],
      "id": "939c9a47",
      "execution_count": null,
      "outputs": []
    },
    {
      "cell_type": "markdown",
      "metadata": {},
      "source": [
        "## 🤖 Neural Network Model (Keras)\n",
        "\n",
        "Train a neural network to classify water pumps as functioning or not.\n"
      ],
      "id": "5b3f405f"
    },
    {
      "cell_type": "code",
      "metadata": {},
      "source": [
        "# Train-Test Split\n",
        "X_train, X_test, y_train, y_test = train_test_split(X_scaled, y, test_size=0.3, random_state=4)"
      ],
      "id": "903f08c1",
      "execution_count": null,
      "outputs": []
    },
    {
      "cell_type": "code",
      "metadata": {},
      "source": [
        "# Build Neural Network\n",
        "model = Sequential([\n",
        "    Dense(16, activation='relu', input_shape=(X_train.shape[1],)),\n",
        "    Dropout(0.3),\n",
        "    Dense(12, activation='relu'),\n",
        "    Dropout(0.3),\n",
        "    Dense(6, activation='relu'),\n",
        "    Dropout(0.3),\n",
        "    Dense(1, activation='sigmoid')\n",
        "])"
      ],
      "id": "b9244f3d",
      "execution_count": null,
      "outputs": []
    },
    {
      "cell_type": "code",
      "metadata": {},
      "source": [
        "model.compile(optimizer=Adam(learning_rate=0.001), loss='binary_crossentropy', metrics=['accuracy'])\n",
        "early_stop = EarlyStopping(monitor='val_loss', patience=5, restore_best_weights=True)\n",
        "\n",
        "# Train Model\n",
        "history = model.fit(\n",
        "    X_train, y_train,\n",
        "    validation_split=0.2,\n",
        "    epochs=50,\n",
        "    batch_size=32,\n",
        "    callbacks=[early_stop],\n",
        "    verbose=1\n",
        ")"
      ],
      "id": "50b5b2d0",
      "execution_count": null,
      "outputs": []
    },
    {
      "cell_type": "markdown",
      "metadata": {},
      "source": [
        "## 📈 Model Evaluation\n",
        "\n",
        "Display classification report and confusion matrix to evaluate performance.\n"
      ],
      "id": "4fed6f35"
    },
    {
      "cell_type": "code",
      "metadata": {},
      "source": [
        "# Evaluate Model\n",
        "y_pred = (model.predict(X_test) > 0.5).astype(\"int32\")\n",
        "print(\"\\nClassification Report:\\n\", classification_report(y_test, y_pred))\n",
        "print(\"\\nConfusion Matrix:\\n\", confusion_matrix(y_test, y_pred))"
      ],
      "id": "889d3871",
      "execution_count": null,
      "outputs": []
    },
    {
      "cell_type": "markdown",
      "metadata": {},
      "source": [
        "## 📊 Training History\n",
        "\n",
        "Visualize accuracy and loss across epochs for both training and validation sets.\n"
      ],
      "id": "b09f5a4c"
    },
    {
      "cell_type": "code",
      "metadata": {},
      "source": [
        "# Plot Accuracy and Loss\n",
        "acc = history.history['accuracy']\n",
        "val_acc = history.history['val_accuracy']\n",
        "loss = history.history['loss']\n",
        "val_loss = history.history['val_loss']\n",
        "epochs = range(1, len(acc) + 1)\n",
        "\n",
        "plt.figure(figsize=(12, 5))\n",
        "plt.subplot(1, 2, 1)\n",
        "plt.plot(epochs, acc, 'bo-', label='Training Accuracy')\n",
        "plt.plot(epochs, val_acc, 'ro-', label='Validation Accuracy')\n",
        "plt.title('Training vs. Validation Accuracy')\n",
        "plt.xlabel('Epochs')\n",
        "plt.ylabel('Accuracy')\n",
        "plt.legend()\n",
        "\n",
        "plt.subplot(1, 2, 2)\n",
        "plt.plot(epochs, loss, 'bo-', label='Training Loss')\n",
        "plt.plot(epochs, val_loss, 'ro-', label='Validation Loss')\n",
        "plt.title('Training vs. Validation Loss')\n",
        "plt.xlabel('Epochs')\n",
        "plt.ylabel('Loss')\n",
        "plt.legend()\n",
        "\n",
        "plt.tight_layout()\n",
        "plt.show()"
      ],
      "id": "d1ee86cc",
      "execution_count": null,
      "outputs": []
    },
    {
      "cell_type": "code",
      "metadata": {},
      "source": [
        "# Final Metrics\n",
        "final_epoch = len(acc) - 1\n",
        "print(\"\\nFinal Epoch Metrics:\")\n",
        "print(f\"Training Accuracy     : {acc[final_epoch]:.4f}\")\n",
        "print(f\"Validation Accuracy   : {val_acc[final_epoch]:.4f}\")\n",
        "print(f\"Training Loss         : {loss[final_epoch]:.4f}\")\n",
        "print(f\"Validation Loss       : {val_loss[final_epoch]:.4f}\")"
      ],
      "id": "060b05fe",
      "execution_count": null,
      "outputs": []
    }
  ],
  "metadata": {
    "kernelspec": {
      "name": "python3",
      "language": "python",
      "display_name": "Python 3 (ipykernel)"
    }
  },
  "nbformat": 4,
  "nbformat_minor": 5
}