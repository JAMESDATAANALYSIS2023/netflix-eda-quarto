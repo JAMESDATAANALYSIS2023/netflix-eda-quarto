{
 "cells": [
  {
   "cell_type": "markdown",
   "id": "d4ae5bce",
   "metadata": {},
   "source": [
    "# Project 1: Netflix Movie Trends in the 1990s\n",
    "\n",
    "## Objective\n",
    "Analyze Netflix movie data to uncover patterns in movie durations and genre trends during the 1990s.\n",
    "\n",
    "## Tools Used\n",
    "- **Python Libraries**: pandas, matplotlib\n",
    "- **Techniques**: Data filtering, type conversion, value counts, histogram visualization\n",
    "\n",
    "## Key Questions\n",
    "1. What was the most common movie duration in the 1990s?\n",
    "2. How many short action movies (< 90 minutes) were released in that decade?\n",
    "\n",
    "## Summary of Findings\n",
    "- The most frequent duration was **94 minutes**, showing a standard movie length for the 1990s.\n",
    "- Only **7 short action movies** were released in that time period, indicating a preference for longer runtimes in that genre.\n"
   ]
  },
  {
   "cell_type": "code",
   "execution_count": 41,
   "id": "7eaa9e6e",
   "metadata": {},
   "outputs": [],
   "source": [
    "# import Python librairies\n",
    "import pandas as pd\n",
    "import matplotlib.pyplot as plt\n",
    "import seaborn as sns"
   ]
  },
  {
   "cell_type": "code",
   "execution_count": 42,
   "id": "3be09850",
   "metadata": {},
   "outputs": [],
   "source": [
    "# load the netflix data set as pandas data frame\n",
    "Netflix = pd.read_csv(\"netflix_data.csv\")"
   ]
  },
  {
   "cell_type": "markdown",
   "id": "e43269c2",
   "metadata": {},
   "source": [
    "1.0 Data Preview and Inspection"
   ]
  },
  {
   "cell_type": "code",
   "execution_count": 43,
   "id": "f43a5735",
   "metadata": {},
   "outputs": [
    {
     "data": {
      "text/html": [
       "<div>\n",
       "<style scoped>\n",
       "    .dataframe tbody tr th:only-of-type {\n",
       "        vertical-align: middle;\n",
       "    }\n",
       "\n",
       "    .dataframe tbody tr th {\n",
       "        vertical-align: top;\n",
       "    }\n",
       "\n",
       "    .dataframe thead th {\n",
       "        text-align: right;\n",
       "    }\n",
       "</style>\n",
       "<table border=\"1\" class=\"dataframe\">\n",
       "  <thead>\n",
       "    <tr style=\"text-align: right;\">\n",
       "      <th></th>\n",
       "      <th>show_id</th>\n",
       "      <th>type</th>\n",
       "      <th>title</th>\n",
       "      <th>director</th>\n",
       "      <th>cast</th>\n",
       "      <th>country</th>\n",
       "      <th>date_added</th>\n",
       "      <th>release_year</th>\n",
       "      <th>duration</th>\n",
       "      <th>description</th>\n",
       "      <th>genre</th>\n",
       "    </tr>\n",
       "  </thead>\n",
       "  <tbody>\n",
       "    <tr>\n",
       "      <th>0</th>\n",
       "      <td>s2</td>\n",
       "      <td>Movie</td>\n",
       "      <td>7:19</td>\n",
       "      <td>Jorge Michel Grau</td>\n",
       "      <td>Demián Bichir, Héctor Bonilla, Oscar Serrano, ...</td>\n",
       "      <td>Mexico</td>\n",
       "      <td>December 23, 2016</td>\n",
       "      <td>2016</td>\n",
       "      <td>93</td>\n",
       "      <td>After a devastating earthquake hits Mexico Cit...</td>\n",
       "      <td>Dramas</td>\n",
       "    </tr>\n",
       "    <tr>\n",
       "      <th>1</th>\n",
       "      <td>s3</td>\n",
       "      <td>Movie</td>\n",
       "      <td>23:59</td>\n",
       "      <td>Gilbert Chan</td>\n",
       "      <td>Tedd Chan, Stella Chung, Henley Hii, Lawrence ...</td>\n",
       "      <td>Singapore</td>\n",
       "      <td>December 20, 2018</td>\n",
       "      <td>2011</td>\n",
       "      <td>78</td>\n",
       "      <td>When an army recruit is found dead, his fellow...</td>\n",
       "      <td>Horror Movies</td>\n",
       "    </tr>\n",
       "    <tr>\n",
       "      <th>2</th>\n",
       "      <td>s4</td>\n",
       "      <td>Movie</td>\n",
       "      <td>9</td>\n",
       "      <td>Shane Acker</td>\n",
       "      <td>Elijah Wood, John C. Reilly, Jennifer Connelly...</td>\n",
       "      <td>United States</td>\n",
       "      <td>November 16, 2017</td>\n",
       "      <td>2009</td>\n",
       "      <td>80</td>\n",
       "      <td>In a postapocalyptic world, rag-doll robots hi...</td>\n",
       "      <td>Action</td>\n",
       "    </tr>\n",
       "    <tr>\n",
       "      <th>3</th>\n",
       "      <td>s5</td>\n",
       "      <td>Movie</td>\n",
       "      <td>21</td>\n",
       "      <td>Robert Luketic</td>\n",
       "      <td>Jim Sturgess, Kevin Spacey, Kate Bosworth, Aar...</td>\n",
       "      <td>United States</td>\n",
       "      <td>January 1, 2020</td>\n",
       "      <td>2008</td>\n",
       "      <td>123</td>\n",
       "      <td>A brilliant group of students become card-coun...</td>\n",
       "      <td>Dramas</td>\n",
       "    </tr>\n",
       "    <tr>\n",
       "      <th>4</th>\n",
       "      <td>s6</td>\n",
       "      <td>TV Show</td>\n",
       "      <td>46</td>\n",
       "      <td>Serdar Akar</td>\n",
       "      <td>Erdal Beşikçioğlu, Yasemin Allen, Melis Birkan...</td>\n",
       "      <td>Turkey</td>\n",
       "      <td>July 1, 2017</td>\n",
       "      <td>2016</td>\n",
       "      <td>1</td>\n",
       "      <td>A genetics professor experiments with a treatm...</td>\n",
       "      <td>International TV</td>\n",
       "    </tr>\n",
       "  </tbody>\n",
       "</table>\n",
       "</div>"
      ],
      "text/plain": [
       "  show_id     type  title           director  \\\n",
       "0      s2    Movie   7:19  Jorge Michel Grau   \n",
       "1      s3    Movie  23:59       Gilbert Chan   \n",
       "2      s4    Movie      9        Shane Acker   \n",
       "3      s5    Movie     21     Robert Luketic   \n",
       "4      s6  TV Show     46        Serdar Akar   \n",
       "\n",
       "                                                cast        country  \\\n",
       "0  Demián Bichir, Héctor Bonilla, Oscar Serrano, ...         Mexico   \n",
       "1  Tedd Chan, Stella Chung, Henley Hii, Lawrence ...      Singapore   \n",
       "2  Elijah Wood, John C. Reilly, Jennifer Connelly...  United States   \n",
       "3  Jim Sturgess, Kevin Spacey, Kate Bosworth, Aar...  United States   \n",
       "4  Erdal Beşikçioğlu, Yasemin Allen, Melis Birkan...         Turkey   \n",
       "\n",
       "          date_added  release_year  duration  \\\n",
       "0  December 23, 2016          2016        93   \n",
       "1  December 20, 2018          2011        78   \n",
       "2  November 16, 2017          2009        80   \n",
       "3    January 1, 2020          2008       123   \n",
       "4       July 1, 2017          2016         1   \n",
       "\n",
       "                                         description             genre  \n",
       "0  After a devastating earthquake hits Mexico Cit...            Dramas  \n",
       "1  When an army recruit is found dead, his fellow...     Horror Movies  \n",
       "2  In a postapocalyptic world, rag-doll robots hi...            Action  \n",
       "3  A brilliant group of students become card-coun...            Dramas  \n",
       "4  A genetics professor experiments with a treatm...  International TV  "
      ]
     },
     "execution_count": 43,
     "metadata": {},
     "output_type": "execute_result"
    }
   ],
   "source": [
    "# to see first 5 columns of data frame\n",
    "Netflix.head()"
   ]
  },
  {
   "cell_type": "code",
   "execution_count": 44,
   "id": "51eb7f52",
   "metadata": {},
   "outputs": [
    {
     "data": {
      "text/html": [
       "<div>\n",
       "<style scoped>\n",
       "    .dataframe tbody tr th:only-of-type {\n",
       "        vertical-align: middle;\n",
       "    }\n",
       "\n",
       "    .dataframe tbody tr th {\n",
       "        vertical-align: top;\n",
       "    }\n",
       "\n",
       "    .dataframe thead th {\n",
       "        text-align: right;\n",
       "    }\n",
       "</style>\n",
       "<table border=\"1\" class=\"dataframe\">\n",
       "  <thead>\n",
       "    <tr style=\"text-align: right;\">\n",
       "      <th></th>\n",
       "      <th>show_id</th>\n",
       "      <th>type</th>\n",
       "      <th>title</th>\n",
       "      <th>director</th>\n",
       "      <th>cast</th>\n",
       "      <th>country</th>\n",
       "      <th>date_added</th>\n",
       "      <th>release_year</th>\n",
       "      <th>duration</th>\n",
       "      <th>description</th>\n",
       "      <th>genre</th>\n",
       "    </tr>\n",
       "  </thead>\n",
       "  <tbody>\n",
       "    <tr>\n",
       "      <th>4807</th>\n",
       "      <td>s7779</td>\n",
       "      <td>Movie</td>\n",
       "      <td>Zombieland</td>\n",
       "      <td>Ruben Fleischer</td>\n",
       "      <td>Jesse Eisenberg, Woody Harrelson, Emma Stone, ...</td>\n",
       "      <td>United States</td>\n",
       "      <td>November 1, 2019</td>\n",
       "      <td>2009</td>\n",
       "      <td>88</td>\n",
       "      <td>Looking to survive in a world taken over by zo...</td>\n",
       "      <td>Comedies</td>\n",
       "    </tr>\n",
       "    <tr>\n",
       "      <th>4808</th>\n",
       "      <td>s7781</td>\n",
       "      <td>Movie</td>\n",
       "      <td>Zoo</td>\n",
       "      <td>Shlok Sharma</td>\n",
       "      <td>Shashank Arora, Shweta Tripathi, Rahul Kumar, ...</td>\n",
       "      <td>India</td>\n",
       "      <td>July 1, 2018</td>\n",
       "      <td>2018</td>\n",
       "      <td>94</td>\n",
       "      <td>A drug dealer starts having doubts about his t...</td>\n",
       "      <td>Dramas</td>\n",
       "    </tr>\n",
       "    <tr>\n",
       "      <th>4809</th>\n",
       "      <td>s7782</td>\n",
       "      <td>Movie</td>\n",
       "      <td>Zoom</td>\n",
       "      <td>Peter Hewitt</td>\n",
       "      <td>Tim Allen, Courteney Cox, Chevy Chase, Kate Ma...</td>\n",
       "      <td>United States</td>\n",
       "      <td>January 11, 2020</td>\n",
       "      <td>2006</td>\n",
       "      <td>88</td>\n",
       "      <td>Dragged from civilian life, a former superhero...</td>\n",
       "      <td>Children</td>\n",
       "    </tr>\n",
       "    <tr>\n",
       "      <th>4810</th>\n",
       "      <td>s7783</td>\n",
       "      <td>Movie</td>\n",
       "      <td>Zozo</td>\n",
       "      <td>Josef Fares</td>\n",
       "      <td>Imad Creidi, Antoinette Turk, Elias Gergi, Car...</td>\n",
       "      <td>Sweden</td>\n",
       "      <td>October 19, 2020</td>\n",
       "      <td>2005</td>\n",
       "      <td>99</td>\n",
       "      <td>When Lebanon's Civil War deprives Zozo of his ...</td>\n",
       "      <td>Dramas</td>\n",
       "    </tr>\n",
       "    <tr>\n",
       "      <th>4811</th>\n",
       "      <td>s7784</td>\n",
       "      <td>Movie</td>\n",
       "      <td>Zubaan</td>\n",
       "      <td>Mozez Singh</td>\n",
       "      <td>Vicky Kaushal, Sarah-Jane Dias, Raaghav Chanan...</td>\n",
       "      <td>India</td>\n",
       "      <td>March 2, 2019</td>\n",
       "      <td>2015</td>\n",
       "      <td>111</td>\n",
       "      <td>A scrappy but poor boy worms his way into a ty...</td>\n",
       "      <td>Dramas</td>\n",
       "    </tr>\n",
       "  </tbody>\n",
       "</table>\n",
       "</div>"
      ],
      "text/plain": [
       "     show_id   type       title         director  \\\n",
       "4807   s7779  Movie  Zombieland  Ruben Fleischer   \n",
       "4808   s7781  Movie         Zoo     Shlok Sharma   \n",
       "4809   s7782  Movie        Zoom     Peter Hewitt   \n",
       "4810   s7783  Movie        Zozo      Josef Fares   \n",
       "4811   s7784  Movie      Zubaan      Mozez Singh   \n",
       "\n",
       "                                                   cast        country  \\\n",
       "4807  Jesse Eisenberg, Woody Harrelson, Emma Stone, ...  United States   \n",
       "4808  Shashank Arora, Shweta Tripathi, Rahul Kumar, ...          India   \n",
       "4809  Tim Allen, Courteney Cox, Chevy Chase, Kate Ma...  United States   \n",
       "4810  Imad Creidi, Antoinette Turk, Elias Gergi, Car...         Sweden   \n",
       "4811  Vicky Kaushal, Sarah-Jane Dias, Raaghav Chanan...          India   \n",
       "\n",
       "            date_added  release_year  duration  \\\n",
       "4807  November 1, 2019          2009        88   \n",
       "4808      July 1, 2018          2018        94   \n",
       "4809  January 11, 2020          2006        88   \n",
       "4810  October 19, 2020          2005        99   \n",
       "4811     March 2, 2019          2015       111   \n",
       "\n",
       "                                            description     genre  \n",
       "4807  Looking to survive in a world taken over by zo...  Comedies  \n",
       "4808  A drug dealer starts having doubts about his t...    Dramas  \n",
       "4809  Dragged from civilian life, a former superhero...  Children  \n",
       "4810  When Lebanon's Civil War deprives Zozo of his ...    Dramas  \n",
       "4811  A scrappy but poor boy worms his way into a ty...    Dramas  "
      ]
     },
     "execution_count": 44,
     "metadata": {},
     "output_type": "execute_result"
    }
   ],
   "source": [
    "# to see last 5 columns of data frame\n",
    "Netflix.tail()"
   ]
  },
  {
   "cell_type": "code",
   "execution_count": 45,
   "id": "6ec5c78e",
   "metadata": {},
   "outputs": [
    {
     "name": "stdout",
     "output_type": "stream",
     "text": [
      "<class 'pandas.core.frame.DataFrame'>\n",
      "RangeIndex: 4812 entries, 0 to 4811\n",
      "Data columns (total 11 columns):\n",
      " #   Column        Non-Null Count  Dtype \n",
      "---  ------        --------------  ----- \n",
      " 0   show_id       4812 non-null   object\n",
      " 1   type          4812 non-null   object\n",
      " 2   title         4812 non-null   object\n",
      " 3   director      4812 non-null   object\n",
      " 4   cast          4812 non-null   object\n",
      " 5   country       4812 non-null   object\n",
      " 6   date_added    4812 non-null   object\n",
      " 7   release_year  4812 non-null   int64 \n",
      " 8   duration      4812 non-null   int64 \n",
      " 9   description   4812 non-null   object\n",
      " 10  genre         4812 non-null   object\n",
      "dtypes: int64(2), object(9)\n",
      "memory usage: 413.7+ KB\n"
     ]
    }
   ],
   "source": [
    "# To see column: missing values in each column, column data type, and memory usage.\n",
    "Netflix.info()"
   ]
  },
  {
   "cell_type": "code",
   "execution_count": 46,
   "id": "69e4914b",
   "metadata": {},
   "outputs": [
    {
     "ename": "NameError",
     "evalue": "name 'netflix_df' is not defined",
     "output_type": "error",
     "traceback": [
      "\u001b[1;31m---------------------------------------------------------------------------\u001b[0m",
      "\u001b[1;31mNameError\u001b[0m                                 Traceback (most recent call last)",
      "Cell \u001b[1;32mIn[46], line 2\u001b[0m\n\u001b[0;32m      1\u001b[0m \u001b[38;5;66;03m# Generate summary statistics for all numeric columns in the Netflix DataFrame\u001b[39;00m\n\u001b[1;32m----> 2\u001b[0m netflix_df\u001b[38;5;241m.\u001b[39mdescribe()\n",
      "\u001b[1;31mNameError\u001b[0m: name 'netflix_df' is not defined"
     ]
    }
   ],
   "source": [
    "# Generate summary statistics for all numeric columns in the Netflix DataFrame\n",
    "netflix_df.describe()"
   ]
  },
  {
   "cell_type": "code",
   "execution_count": null,
   "id": "99633e03",
   "metadata": {},
   "outputs": [],
   "source": [
    "# calculated the percentage of missing values per column \n",
    "missing_pct = (Netflix.isnull().sum() / len(Netflix)) * 100"
   ]
  },
  {
   "cell_type": "code",
   "execution_count": null,
   "id": "2eed8423",
   "metadata": {},
   "outputs": [
    {
     "name": "stdout",
     "output_type": "stream",
     "text": [
      "Series([], dtype: float64)\n"
     ]
    }
   ],
   "source": [
    "# Display the percentage of missing values count for each column: filter only columns with missing values, but since the result is an empty Series\n",
    "missing_pct = missing_pct[missing_pct > 0].sort_values(ascending=False).round(2) \n",
    "print(missing_pct)"
   ]
  },
  {
   "cell_type": "markdown",
   "id": "e2231e45",
   "metadata": {},
   "source": [
    "Data types and conversion"
   ]
  },
  {
   "cell_type": "code",
   "execution_count": null,
   "id": "7b1bb371",
   "metadata": {},
   "outputs": [
    {
     "data": {
      "text/plain": [
       "show_id                 object\n",
       "type                    object\n",
       "title                   object\n",
       "director                object\n",
       "cast                    object\n",
       "country                 object\n",
       "date_added      datetime64[ns]\n",
       "release_year             int64\n",
       "duration                 int64\n",
       "description             object\n",
       "genre                   object\n",
       "dtype: object"
      ]
     },
     "execution_count": 14,
     "metadata": {},
     "output_type": "execute_result"
    }
   ],
   "source": [
    "# Display the data type of each column in the Netflix DataFrame\n",
    "Netflix.dtypes\n",
    "\n"
   ]
  },
  {
   "cell_type": "markdown",
   "id": "388786d4",
   "metadata": {},
   "source": [
    "Convert data_added to date variable"
   ]
  },
  {
   "cell_type": "code",
   "execution_count": null,
   "id": "da954c05",
   "metadata": {},
   "outputs": [],
   "source": [
    "# Convert the \"date_added\" column to datetime format; invalid entries are set to NaT (Not a Time)\n",
    "Netflix[\"date_added\"] = pd.to_datetime(Netflix[\"date_added\"], errors=\"coerce\")"
   ]
  },
  {
   "cell_type": "markdown",
   "id": "f399469a",
   "metadata": {},
   "source": [
    "Categorical EDA"
   ]
  },
  {
   "cell_type": "code",
   "execution_count": null,
   "id": "4a63d19f",
   "metadata": {},
   "outputs": [
    {
     "data": {
      "text/plain": [
       "type\n",
       "Movie      4677\n",
       "TV Show     135\n",
       "Name: count, dtype: int64"
      ]
     },
     "execution_count": 7,
     "metadata": {},
     "output_type": "execute_result"
    }
   ],
   "source": [
    "# Return a pandas series: Count the frequency of each unique category in the \"type\" column.\n",
    "Netflix[\"type\"].value_counts()"
   ]
  },
  {
   "cell_type": "code",
   "execution_count": null,
   "id": "526572b7",
   "metadata": {},
   "outputs": [
    {
     "data": {
      "image/png": "[encoded data removed]",
      "text/plain": [
       "<Figure size 640x480 with 1 Axes>"
      ]
     },
     "metadata": {},
     "output_type": "display_data"
    }
   ],
   "source": [
    "sns.countplot(data= Netflix, x=\"type\")\n",
    "plt.show()"
   ]
  },
  {
   "cell_type": "code",
   "execution_count": null,
   "id": "aa419b41",
   "metadata": {},
   "outputs": [
    {
     "data": {
      "text/plain": [
       "type\n",
       "Movie      0.971945\n",
       "TV Show    0.028055\n",
       "Name: proportion, dtype: float64"
      ]
     },
     "execution_count": 8,
     "metadata": {},
     "output_type": "execute_result"
    }
   ],
   "source": [
    "# Return a pandas series: Count the proportion of each unique category in the \"type\" column.\n",
    "Netflix[\"type\"].value_counts(normalize=True)"
   ]
  },
  {
   "cell_type": "code",
   "execution_count": null,
   "id": "7a9bd262",
   "metadata": {},
   "outputs": [
    {
     "data": {
      "text/plain": [
       "country\n",
       "United States     1886\n",
       "India              864\n",
       "United Kingdom     311\n",
       "Canada             155\n",
       "France             133\n",
       "                  ... \n",
       "Venezuela            1\n",
       "Zimbabwe             1\n",
       "Namibia              1\n",
       "Soviet Union         1\n",
       "Croatia              1\n",
       "Name: count, Length: 72, dtype: int64"
      ]
     },
     "execution_count": 26,
     "metadata": {},
     "output_type": "execute_result"
    }
   ],
   "source": [
    "Netflix[\"country\"].value_counts()"
   ]
  },
  {
   "cell_type": "code",
   "execution_count": null,
   "id": "1cdb4ba4",
   "metadata": {},
   "outputs": [
    {
     "data": {
      "text/plain": [
       "country\n",
       "United States     0.391937\n",
       "India             0.179551\n",
       "United Kingdom    0.064630\n",
       "Canada            0.032211\n",
       "France            0.027639\n",
       "                    ...   \n",
       "Venezuela         0.000208\n",
       "Zimbabwe          0.000208\n",
       "Namibia           0.000208\n",
       "Soviet Union      0.000208\n",
       "Croatia           0.000208\n",
       "Name: proportion, Length: 72, dtype: float64"
      ]
     },
     "execution_count": 27,
     "metadata": {},
     "output_type": "execute_result"
    }
   ],
   "source": [
    "Netflix[\"country\"].value_counts(normalize=True)"
   ]
  },
  {
   "cell_type": "code",
   "execution_count": null,
   "id": "080cb422",
   "metadata": {},
   "outputs": [
    {
     "name": "stdout",
     "output_type": "stream",
     "text": [
      "72\n"
     ]
    }
   ],
   "source": [
    "print(Netflix[\"country\"].nunique())"
   ]
  },
  {
   "cell_type": "code",
   "execution_count": null,
   "id": "e2e7685a",
   "metadata": {},
   "outputs": [
    {
     "data": {
      "text/plain": [
       "genre\n",
       "Dramas                  1343\n",
       "Comedies                1029\n",
       "Action                   696\n",
       "Children                 421\n",
       "Documentaries            352\n",
       "Stand-Up                 283\n",
       "Horror Movies            239\n",
       "International Movies     100\n",
       "Classic Movies            69\n",
       "Thrillers                 49\n",
       "International TV          39\n",
       "Crime TV                  30\n",
       "Uncategorized             25\n",
       "Independent Movies        20\n",
       "British TV                20\n",
       "Anime Features            18\n",
       "Music                     14\n",
       "Sci-Fi                    11\n",
       "Cult Movies               11\n",
       "Kids                      10\n",
       "Anime Series               9\n",
       "Docuseries                 7\n",
       "TV Shows                   4\n",
       "Romantic Movies            3\n",
       "TV Comedies                3\n",
       "TV Action                  2\n",
       "Romantic TV                1\n",
       "TV Horror                  1\n",
       "Classic                    1\n",
       "Reality TV                 1\n",
       "LGBTQ Movies               1\n",
       "Name: count, dtype: int64"
      ]
     },
     "execution_count": 28,
     "metadata": {},
     "output_type": "execute_result"
    }
   ],
   "source": [
    "Netflix[\"genre\"].value_counts()"
   ]
  },
  {
   "cell_type": "code",
   "execution_count": null,
   "id": "562b9dd5",
   "metadata": {},
   "outputs": [
    {
     "data": {
      "text/plain": [
       "genre\n",
       "Dramas                  0.279094\n",
       "Comedies                0.213840\n",
       "Action                  0.144638\n",
       "Children                0.087490\n",
       "Documentaries           0.073150\n",
       "Stand-Up                0.058811\n",
       "Horror Movies           0.049667\n",
       "International Movies    0.020781\n",
       "Classic Movies          0.014339\n",
       "Thrillers               0.010183\n",
       "International TV        0.008105\n",
       "Crime TV                0.006234\n",
       "Uncategorized           0.005195\n",
       "Independent Movies      0.004156\n",
       "British TV              0.004156\n",
       "Anime Features          0.003741\n",
       "Music                   0.002909\n",
       "Sci-Fi                  0.002286\n",
       "Cult Movies             0.002286\n",
       "Kids                    0.002078\n",
       "Anime Series            0.001870\n",
       "Docuseries              0.001455\n",
       "TV Shows                0.000831\n",
       "Romantic Movies         0.000623\n",
       "TV Comedies             0.000623\n",
       "TV Action               0.000416\n",
       "Romantic TV             0.000208\n",
       "TV Horror               0.000208\n",
       "Classic                 0.000208\n",
       "Reality TV              0.000208\n",
       "LGBTQ Movies            0.000208\n",
       "Name: proportion, dtype: float64"
      ]
     },
     "execution_count": 29,
     "metadata": {},
     "output_type": "execute_result"
    }
   ],
   "source": [
    "Netflix[\"genre\"].value_counts(normalize=True)"
   ]
  },
  {
   "cell_type": "code",
   "execution_count": null,
   "id": "853d055e",
   "metadata": {},
   "outputs": [
    {
     "name": "stdout",
     "output_type": "stream",
     "text": [
      "31\n"
     ]
    }
   ],
   "source": [
    "print(Netflix[\"genre\"].nunique())"
   ]
  },
  {
   "cell_type": "markdown",
   "id": "1e6b9315",
   "metadata": {},
   "source": [
    "Filter Movies to the 1990s"
   ]
  },
  {
   "cell_type": "code",
   "execution_count": null,
   "id": "48b0c334",
   "metadata": {},
   "outputs": [],
   "source": [
    "# Filter Movies to the 1990s\n",
    "movies_df = Netflix[Netflix[\"type\"] == \"Movie\"].copy()"
   ]
  },
  {
   "cell_type": "code",
   "execution_count": null,
   "id": "791cec27",
   "metadata": {},
   "outputs": [],
   "source": [
    "# Filter movies released in the 1990s\n",
    "movies_90s = movies_df[(movies_df[\"release_year\"] >= 1990) & (movies_df[\"release_year\"] < 2000)]\n"
   ]
  },
  {
   "cell_type": "code",
   "execution_count": null,
   "id": "1688479f",
   "metadata": {},
   "outputs": [
    {
     "data": {
      "image/png": "[encoded data removed]",
      "text/plain": [
       "<Figure size 640x480 with 1 Axes>"
      ]
     },
     "metadata": {},
     "output_type": "display_data"
    }
   ],
   "source": [
    "# Visualize the distribution of movie durations\n",
    "plt.hist(movies_90s[\"duration\"])\n",
    "plt.title(\"Distribution of Movie Durations (1990s)\")\n",
    "plt.xlabel(\"Duration (minutes)\")\n",
    "plt.ylabel(\"Number of Movies\")\n",
    "plt.show()"
   ]
  },
  {
   "cell_type": "code",
   "execution_count": null,
   "id": "88fd3cba",
   "metadata": {},
   "outputs": [
    {
     "name": "stdout",
     "output_type": "stream",
     "text": [
      "1990\n",
      "1999\n"
     ]
    }
   ],
   "source": [
    "min_date = movies_90s[\"release_year\"].min()\n",
    "max_date = movies_90s[\"release_year\"].max()\n",
    "print(min_date)\n",
    "print(max_date)\n"
   ]
  },
  {
   "cell_type": "markdown",
   "id": "5248db8b",
   "metadata": {},
   "source": [
    "Answer Question 1: Most Frequent Movie Duration"
   ]
  },
  {
   "cell_type": "code",
   "execution_count": null,
   "id": "86e27534",
   "metadata": {},
   "outputs": [
    {
     "name": "stdout",
     "output_type": "stream",
     "text": [
      "Most frequent duration: 94\n"
     ]
    }
   ],
   "source": [
    "# Find the most frequent duration\n",
    "duration = movies_90s[\"duration\"].mode()[0]  # mode returns a Series, so take the first\n",
    "print(\"Most frequent duration:\", duration)"
   ]
  },
  {
   "cell_type": "markdown",
   "id": "62ed7cd1",
   "metadata": {},
   "source": [
    "Interpretation:\n",
    "\n",
    "A duration of 94 minutes suggests that typical 1990s films leaned toward a standard feature-length format — long enough for storytelling but concise enough for wide audience appeal.\n",
    "\n",
    "This insight aligns with industry patterns from that era, where movies often ranged between 90–120 minutes."
   ]
  },
  {
   "cell_type": "markdown",
   "id": "f5c59600",
   "metadata": {},
   "source": [
    "Answer Question 2: Count Short Action Movies < 90 min"
   ]
  },
  {
   "cell_type": "code",
   "execution_count": null,
   "id": "c8e8b413",
   "metadata": {},
   "outputs": [
    {
     "name": "stdout",
     "output_type": "stream",
     "text": [
      "Short Action Movies: 7\n"
     ]
    }
   ],
   "source": [
    "# Filter Action movies from the 1990s\n",
    "short_action = movies_90s[(movies_90s[\"genre\"] == \"Action\") & (movies_90s[\"duration\"] < 90)]\n",
    "\n",
    "# Count how many Action movies had a duration under 90 minutes\n",
    "short_action_count = (short_action[\"duration\"] < 90).sum()\n",
    "\n",
    "#short_movie_count = short_action.shape[0]\n",
    "print(\"Short Action Movies:\", short_movie_count)"
   ]
  },
  {
   "cell_type": "markdown",
   "id": "584ce37c",
   "metadata": {},
   "source": [
    "Interpretation:\n",
    "\n",
    "Action movies during the 1990s were generally longer than 90 minutes, likely due to their complex plots, action sequences, and production style.\n",
    "\n",
    "The relatively small number (7 out of all action movies) implies that short-form action content was rare, possibly limited to niche markets or lower-budget productions."
   ]
  },
  {
   "cell_type": "markdown",
   "id": "33b50449",
   "metadata": {},
   "source": [
    "## Insights\n",
    "\n",
    "- A majority of 1990s Netflix movies are around **94 minutes**, suggesting a consistent production format.\n",
    "- **Action** movies during the same decade were **rarely shorter than 90 minutes**, hinting at genre-driven runtime requirements.\n",
    "\n",
    "---\n",
    "\n",
    "## Next Steps\n",
    "\n",
    "- Extend the analysis to other genres or time periods (2000s, 2010s)\n",
    "- Add more complex filters (e.g., by country or rating)\n",
    "- Consider clustering movies by duration + genre + country for pattern discovery (Project 2)\n",
    "\n",
    "---\n",
    "\n",
    "## Portfolio Use\n",
    "\n",
    "This project demonstrates ability to:\n",
    "- Clean and preprocess a real-world dataset\n",
    "- Apply basic statistics and visualization\n",
    "- Answer business-relevant questions using data"
   ]
  },
  {
   "cell_type": "markdown",
   "id": "a2f27fe7",
   "metadata": {},
   "source": []
  }
 ],
 "metadata": {
  "kernelspec": {
   "display_name": "base",
   "language": "python",
   "name": "python3"
  },
  "language_info": {
   "codemirror_mode": {
    "name": "ipython",
    "version": 3
   },
   "file_extension": ".py",
   "mimetype": "text/x-python",
   "name": "python",
   "nbconvert_exporter": "python",
   "pygments_lexer": "ipython3",
   "version": "3.12.7"
  }
 },
 "nbformat": 4,
 "nbformat_minor": 5
}
