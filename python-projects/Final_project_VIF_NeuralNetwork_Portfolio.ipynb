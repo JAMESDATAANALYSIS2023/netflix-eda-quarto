{
 "cells": [
  {
   "cell_type": "markdown",
   "id": "013e49ce-8b05-410e-a5ed-0ca34684eaf7",
   "metadata": {},
   "source": [
    "# Water Pump Functionality Prediction - Portfolio Project\n",
    "\n",
    "## Project Overview\n",
    "This project explores the use of machine learning to predict the functionality status of water pumps in rural areas. The dataset includes \n",
    "features such as water source, pump type, distance to town, population served, and funding organization.\n",
    "\n",
    "**Goal**: Build a predictive model to determine whether a water pump is functional or non-functional.\n"
   ]
  },
  {
   "cell_type": "code",
   "execution_count": 2,
   "id": "2c529de7-707d-4cb8-ae84-4f7b59c475fa",
   "metadata": {},
   "outputs": [],
   "source": [
    "# Import Libraries\n",
    "import pandas as pd\n",
    "import numpy as np\n",
    "import matplotlib.pyplot as plt\n",
    "import os\n",
    "from sklearn.preprocessing import StandardScaler\n",
    "from sklearn.model_selection import train_test_split\n",
    "from sklearn.metrics import classification_report, confusion_matrix\n",
    "from statsmodels.stats.outliers_influence import variance_inflation_factor\n",
    "from tensorflow.keras.models import Sequential\n",
    "from tensorflow.keras.layers import Dense, Dropout\n",
    "from tensorflow.keras.optimizers import Adam\n",
    "from tensorflow.keras.callbacks import EarlyStopping"
   ]
  },
  {
   "cell_type": "markdown",
   "id": "282d55b7-15ea-4563-8e4a-7fa1788557a2",
   "metadata": {},
   "source": [
    "## Set and Verify Working Directory\n",
    "\n",
    "Before loading the dataset, we confirm the current working directory and change it to the location where the cleaned data file is stored.\n"
   ]
  },
  {
   "cell_type": "code",
   "execution_count": 4,
   "id": "b0debf0f-f809-4735-af5f-2f522c9e2b2d",
   "metadata": {},
   "outputs": [
    {
     "name": "stdout",
     "output_type": "stream",
     "text": [
      "Current working directory: C:\\Users\\jgpet\\DSCI5240\\Final Project\n",
      "New working directory: C:\\Users\\jgpet\\OneDrive\\Desktop\\Gradiate school\\2025\\DSCI 5240\\Final Project\n"
     ]
    }
   ],
   "source": [
    "# Set and Verify Working Directory\n",
    "\n",
    "# PYthon library\n",
    "import os\n",
    "\n",
    "print(\"Current working directory:\", os.getcwd())\n",
    "\n",
    "os.chdir(r\"C:\\Users\\jgpet\\OneDrive\\Desktop\\Gradiate school\\2025\\DSCI 5240\\Final Project\")\n",
    "print(\"New working directory:\", os.getcwd())"
   ]
  },
  {
   "cell_type": "markdown",
   "id": "535fe85a-ae1b-40bb-a51a-386df81322bc",
   "metadata": {},
   "source": [
    "## Load Dataset\n",
    "Set the working directory and load the cleaned dataset into memory."
   ]
  },
  {
   "cell_type": "code",
   "execution_count": 6,
   "id": "e5b8acd0-9788-403f-81e2-b6503e769b58",
   "metadata": {},
   "outputs": [],
   "source": [
    "# Load Dataset\n",
    "Final_project = pd.read_csv(\"Final_project_clean.csv\", header=0)\n",
    "pd.set_option(\"display.max_columns\", None)"
   ]
  },
  {
   "cell_type": "markdown",
   "id": "98291758-c950-4921-b39d-32ee64a3e4c5",
   "metadata": {},
   "source": [
    "## Handle Outliers\n",
    "\n",
    "Use the IQR method to detect and cap outliers in numerical features:\n",
    "- Distance to Nearest Town\n",
    "- Population Served\n",
    "- Water Pump Age"
   ]
  },
  {
   "cell_type": "code",
   "execution_count": 8,
   "id": "ea1f01e6-de12-4f16-8531-ff9c3d6f6032",
   "metadata": {},
   "outputs": [],
   "source": [
    "# Outlier Detection & Capping\n",
    "num_cols = ['Distance to Nearest Town', 'Population Served', 'Water Pump Age']\n",
    "\n",
    "for col in num_cols:\n",
    "    Q1 = Final_project[col].quantile(0.25)\n",
    "    Q3 = Final_project[col].quantile(0.75)\n",
    "    IQR = Q3 - Q1\n",
    "    lower_bound = Q1 - 1.5 * IQR\n",
    "    upper_bound = Q3 + 1.5 * IQR\n",
    "    Final_project[col] = Final_project[col].clip(lower=lower_bound, upper=upper_bound)\n",
    "\n",
    "# Clip distance values below 0 to 0\n",
    "Final_project['Distance to Nearest Town'] = Final_project['Distance to Nearest Town'].clip(lower=0)\n"
   ]
  },
  {
   "cell_type": "markdown",
   "id": "c8761209-cb77-4303-810d-a657691f4ce6",
   "metadata": {},
   "source": [
    "## 🔤 Encode Categorical Variables\n",
    "\n",
    "- Binary encoding for Water Quality, Payment Type, and Functioning Status  \n",
    "- One-hot encoding for Water Source Type, Funder, Pump Type"
   ]
  },
  {
   "cell_type": "code",
   "execution_count": 10,
   "id": "d9066efe-3a4d-46ce-ad58-dfab4bd79901",
   "metadata": {},
   "outputs": [
    {
     "name": "stderr",
     "output_type": "stream",
     "text": [
      "C:\\Users\\jgpet\\AppData\\Local\\Temp\\ipykernel_27700\\130284717.py:7: FutureWarning: Downcasting behavior in `replace` is deprecated and will be removed in a future version. To retain the old behavior, explicitly call `result.infer_objects(copy=False)`. To opt-in to the future behavior, set `pd.set_option('future.no_silent_downcasting', True)`\n",
      "  df_encoded = Final_project.replace(binary_map)\n"
     ]
    }
   ],
   "source": [
    "# Encode Categorical Variables\n",
    "binary_map = {\n",
    "    'Water Quality': {'Clean': 0, 'Contaminated': 1},\n",
    "    'Payment Type': {'Free': 0, 'Pay per use': 1},\n",
    "    'Functioning Status': {'Not Functioning': 0, 'Functioning': 1}\n",
    "}\n",
    "df_encoded = Final_project.replace(binary_map)\n",
    "categorical_cols = ['Water Source Type', 'Funder', 'Pump Type']\n",
    "df_encoded = pd.get_dummies(df_encoded, columns=categorical_cols, drop_first=True)\n",
    "df_encoded = df_encoded.astype(int)"
   ]
  },
  {
   "cell_type": "markdown",
   "id": "4f7818eb-ec40-493b-afe5-ee479c59ceeb",
   "metadata": {},
   "source": [
    "## 🧮 Variance Inflation Factor (VIF)\n",
    "\n",
    "Detect multicollinearity and remove features with VIF > 10 to improve model interpretability."
   ]
  },
  {
   "cell_type": "code",
   "execution_count": 12,
   "id": "fd53217f-f2a0-4517-bca1-b513b1d49834",
   "metadata": {},
   "outputs": [],
   "source": [
    "# Define X and y\n",
    "y = df_encoded['Functioning Status']\n",
    "X = df_encoded.drop(columns='Functioning Status')\n",
    "\n",
    "# VIF for Feature Selection\n",
    "X_vif = X.astype(float)\n",
    "vif_data = pd.DataFrame()\n",
    "vif_data['Feature'] = X_vif.columns\n",
    "vif_data['VIF'] = [variance_inflation_factor(X_vif.values, i) for i in range(X_vif.shape[1])]\n",
    "\n",
    "# Drop high VIF features\n",
    "high_vif_features = ['Installation Year', 'Population Served']\n",
    "X_reduced = X.drop(columns=high_vif_features)\n"
   ]
  },
  {
   "cell_type": "markdown",
   "id": "3d1501d2-5a17-4096-9929-68d54f404481",
   "metadata": {},
   "source": [
    "## 📏 Feature Scaling\n",
    "\n",
    "Standardize numerical features to ensure they contribute equally to the model."
   ]
  },
  {
   "cell_type": "code",
   "execution_count": 14,
   "id": "6625af09-562e-4815-997f-799b22da5af9",
   "metadata": {},
   "outputs": [],
   "source": [
    "# Scaling\n",
    "\n",
    "scaler = StandardScaler()\n",
    "numeric_cols = ['Distance to Nearest Town', 'Water Pump Age']\n",
    "X_scaled = X_reduced.copy()\n",
    "X_scaled[numeric_cols] = scaler.fit_transform(X_scaled[numeric_cols])"
   ]
  },
  {
   "cell_type": "markdown",
   "id": "ffd7a552-8d59-4a2c-8bda-d9e95f175d86",
   "metadata": {},
   "source": [
    "## 🤖 Neural Network Model (Keras)\n",
    "\n",
    "Train a neural network to classify water pumps as functioning or not."
   ]
  },
  {
   "cell_type": "code",
   "execution_count": 16,
   "id": "258122e5-b167-4068-bf81-53b425f7c52e",
   "metadata": {},
   "outputs": [],
   "source": [
    "# Train-Test Split\n",
    "X_train, X_test, y_train, y_test = train_test_split(X_scaled, y, test_size=0.3, random_state=4)"
   ]
  },
  {
   "cell_type": "code",
   "execution_count": null,
   "id": "af5ac8f2-1e08-42b9-85ce-c70c82283c51",
   "metadata": {},
   "outputs": [],
   "source": []
  },
  {
   "cell_type": "code",
   "execution_count": 17,
   "id": "873d367b-666c-45c7-ba02-860c48880271",
   "metadata": {},
   "outputs": [
    {
     "name": "stderr",
     "output_type": "stream",
     "text": [
      "C:\\Users\\jgpet\\anaconda31\\Lib\\site-packages\\keras\\src\\layers\\core\\dense.py:87: UserWarning: Do not pass an `input_shape`/`input_dim` argument to a layer. When using Sequential models, prefer using an `Input(shape)` object as the first layer in the model instead.\n",
      "  super().__init__(activity_regularizer=activity_regularizer, **kwargs)\n"
     ]
    }
   ],
   "source": [
    "# Build Neural Network\n",
    "model = Sequential([\n",
    "    Dense(16, activation='relu', input_shape=(X_train.shape[1],)),\n",
    "    Dropout(0.3),\n",
    "    Dense(12, activation='relu'),\n",
    "    Dropout(0.3),\n",
    "    Dense(6, activation='relu'),\n",
    "    Dropout(0.3),\n",
    "    Dense(1, activation='sigmoid')\n",
    "])"
   ]
  },
  {
   "cell_type": "code",
   "execution_count": 18,
   "id": "f2051e50-3876-4394-b75d-24d9135cd86b",
   "metadata": {},
   "outputs": [
    {
     "name": "stdout",
     "output_type": "stream",
     "text": [
      "Epoch 1/50\n",
      "\u001b[1m88/88\u001b[0m \u001b[32m━━━━━━━━━━━━━━━━━━━━\u001b[0m\u001b[37m\u001b[0m \u001b[1m5s\u001b[0m 12ms/step - accuracy: 0.5993 - loss: 0.6793 - val_accuracy: 0.6529 - val_loss: 0.6523\n",
      "Epoch 2/50\n",
      "\u001b[1m88/88\u001b[0m \u001b[32m━━━━━━━━━━━━━━━━━━━━\u001b[0m\u001b[37m\u001b[0m \u001b[1m0s\u001b[0m 5ms/step - accuracy: 0.6135 - loss: 0.6658 - val_accuracy: 0.6529 - val_loss: 0.6388\n",
      "Epoch 3/50\n",
      "\u001b[1m88/88\u001b[0m \u001b[32m━━━━━━━━━━━━━━━━━━━━\u001b[0m\u001b[37m\u001b[0m \u001b[1m0s\u001b[0m 4ms/step - accuracy: 0.6295 - loss: 0.6504 - val_accuracy: 0.6657 - val_loss: 0.6242\n",
      "Epoch 4/50\n",
      "\u001b[1m88/88\u001b[0m \u001b[32m━━━━━━━━━━━━━━━━━━━━\u001b[0m\u001b[37m\u001b[0m \u001b[1m1s\u001b[0m 4ms/step - accuracy: 0.6377 - loss: 0.6417 - val_accuracy: 0.6657 - val_loss: 0.6134\n",
      "Epoch 5/50\n",
      "\u001b[1m88/88\u001b[0m \u001b[32m━━━━━━━━━━━━━━━━━━━━\u001b[0m\u001b[37m\u001b[0m \u001b[1m0s\u001b[0m 4ms/step - accuracy: 0.6579 - loss: 0.6326 - val_accuracy: 0.6886 - val_loss: 0.6032\n",
      "Epoch 6/50\n",
      "\u001b[1m88/88\u001b[0m \u001b[32m━━━━━━━━━━━━━━━━━━━━\u001b[0m\u001b[37m\u001b[0m \u001b[1m0s\u001b[0m 5ms/step - accuracy: 0.6732 - loss: 0.6182 - val_accuracy: 0.6957 - val_loss: 0.5947\n",
      "Epoch 7/50\n",
      "\u001b[1m88/88\u001b[0m \u001b[32m━━━━━━━━━━━━━━━━━━━━\u001b[0m\u001b[37m\u001b[0m \u001b[1m0s\u001b[0m 4ms/step - accuracy: 0.6771 - loss: 0.6103 - val_accuracy: 0.6986 - val_loss: 0.5933\n",
      "Epoch 8/50\n",
      "\u001b[1m88/88\u001b[0m \u001b[32m━━━━━━━━━━━━━━━━━━━━\u001b[0m\u001b[37m\u001b[0m \u001b[1m1s\u001b[0m 3ms/step - accuracy: 0.6683 - loss: 0.6196 - val_accuracy: 0.6871 - val_loss: 0.5915\n",
      "Epoch 9/50\n",
      "\u001b[1m88/88\u001b[0m \u001b[32m━━━━━━━━━━━━━━━━━━━━\u001b[0m\u001b[37m\u001b[0m \u001b[1m0s\u001b[0m 4ms/step - accuracy: 0.6586 - loss: 0.6161 - val_accuracy: 0.6929 - val_loss: 0.5880\n",
      "Epoch 10/50\n",
      "\u001b[1m88/88\u001b[0m \u001b[32m━━━━━━━━━━━━━━━━━━━━\u001b[0m\u001b[37m\u001b[0m \u001b[1m0s\u001b[0m 3ms/step - accuracy: 0.6893 - loss: 0.5879 - val_accuracy: 0.6971 - val_loss: 0.5845\n",
      "Epoch 11/50\n",
      "\u001b[1m88/88\u001b[0m \u001b[32m━━━━━━━━━━━━━━━━━━━━\u001b[0m\u001b[37m\u001b[0m \u001b[1m0s\u001b[0m 3ms/step - accuracy: 0.6834 - loss: 0.6039 - val_accuracy: 0.6971 - val_loss: 0.5832\n",
      "Epoch 12/50\n",
      "\u001b[1m88/88\u001b[0m \u001b[32m━━━━━━━━━━━━━━━━━━━━\u001b[0m\u001b[37m\u001b[0m \u001b[1m0s\u001b[0m 2ms/step - accuracy: 0.6925 - loss: 0.5975 - val_accuracy: 0.6971 - val_loss: 0.5854\n",
      "Epoch 13/50\n",
      "\u001b[1m88/88\u001b[0m \u001b[32m━━━━━━━━━━━━━━━━━━━━\u001b[0m\u001b[37m\u001b[0m \u001b[1m0s\u001b[0m 2ms/step - accuracy: 0.6901 - loss: 0.5994 - val_accuracy: 0.7000 - val_loss: 0.5823\n",
      "Epoch 14/50\n",
      "\u001b[1m88/88\u001b[0m \u001b[32m━━━━━━━━━━━━━━━━━━━━\u001b[0m\u001b[37m\u001b[0m \u001b[1m0s\u001b[0m 2ms/step - accuracy: 0.7082 - loss: 0.5852 - val_accuracy: 0.7014 - val_loss: 0.5810\n",
      "Epoch 15/50\n",
      "\u001b[1m88/88\u001b[0m \u001b[32m━━━━━━━━━━━━━━━━━━━━\u001b[0m\u001b[37m\u001b[0m \u001b[1m0s\u001b[0m 3ms/step - accuracy: 0.6927 - loss: 0.6031 - val_accuracy: 0.7014 - val_loss: 0.5791\n",
      "Epoch 16/50\n",
      "\u001b[1m88/88\u001b[0m \u001b[32m━━━━━━━━━━━━━━━━━━━━\u001b[0m\u001b[37m\u001b[0m \u001b[1m0s\u001b[0m 3ms/step - accuracy: 0.6861 - loss: 0.6062 - val_accuracy: 0.7029 - val_loss: 0.5805\n",
      "Epoch 17/50\n",
      "\u001b[1m88/88\u001b[0m \u001b[32m━━━━━━━━━━━━━━━━━━━━\u001b[0m\u001b[37m\u001b[0m \u001b[1m0s\u001b[0m 2ms/step - accuracy: 0.7111 - loss: 0.5736 - val_accuracy: 0.6971 - val_loss: 0.5785\n",
      "Epoch 18/50\n",
      "\u001b[1m88/88\u001b[0m \u001b[32m━━━━━━━━━━━━━━━━━━━━\u001b[0m\u001b[37m\u001b[0m \u001b[1m0s\u001b[0m 3ms/step - accuracy: 0.6947 - loss: 0.5939 - val_accuracy: 0.7014 - val_loss: 0.5812\n",
      "Epoch 19/50\n",
      "\u001b[1m88/88\u001b[0m \u001b[32m━━━━━━━━━━━━━━━━━━━━\u001b[0m\u001b[37m\u001b[0m \u001b[1m0s\u001b[0m 3ms/step - accuracy: 0.7112 - loss: 0.5755 - val_accuracy: 0.7057 - val_loss: 0.5781\n",
      "Epoch 20/50\n",
      "\u001b[1m88/88\u001b[0m \u001b[32m━━━━━━━━━━━━━━━━━━━━\u001b[0m\u001b[37m\u001b[0m \u001b[1m0s\u001b[0m 2ms/step - accuracy: 0.7095 - loss: 0.5892 - val_accuracy: 0.7043 - val_loss: 0.5781\n",
      "Epoch 21/50\n",
      "\u001b[1m88/88\u001b[0m \u001b[32m━━━━━━━━━━━━━━━━━━━━\u001b[0m\u001b[37m\u001b[0m \u001b[1m0s\u001b[0m 3ms/step - accuracy: 0.7064 - loss: 0.5863 - val_accuracy: 0.7000 - val_loss: 0.5772\n",
      "Epoch 22/50\n",
      "\u001b[1m88/88\u001b[0m \u001b[32m━━━━━━━━━━━━━━━━━━━━\u001b[0m\u001b[37m\u001b[0m \u001b[1m0s\u001b[0m 3ms/step - accuracy: 0.7113 - loss: 0.5780 - val_accuracy: 0.7029 - val_loss: 0.5793\n",
      "Epoch 23/50\n",
      "\u001b[1m88/88\u001b[0m \u001b[32m━━━━━━━━━━━━━━━━━━━━\u001b[0m\u001b[37m\u001b[0m \u001b[1m0s\u001b[0m 3ms/step - accuracy: 0.7144 - loss: 0.5758 - val_accuracy: 0.7057 - val_loss: 0.5759\n",
      "Epoch 24/50\n",
      "\u001b[1m88/88\u001b[0m \u001b[32m━━━━━━━━━━━━━━━━━━━━\u001b[0m\u001b[37m\u001b[0m \u001b[1m0s\u001b[0m 2ms/step - accuracy: 0.7124 - loss: 0.5747 - val_accuracy: 0.7029 - val_loss: 0.5732\n",
      "Epoch 25/50\n",
      "\u001b[1m88/88\u001b[0m \u001b[32m━━━━━━━━━━━━━━━━━━━━\u001b[0m\u001b[37m\u001b[0m \u001b[1m0s\u001b[0m 4ms/step - accuracy: 0.7094 - loss: 0.5882 - val_accuracy: 0.7043 - val_loss: 0.5739\n",
      "Epoch 26/50\n",
      "\u001b[1m88/88\u001b[0m \u001b[32m━━━━━━━━━━━━━━━━━━━━\u001b[0m\u001b[37m\u001b[0m \u001b[1m0s\u001b[0m 3ms/step - accuracy: 0.7233 - loss: 0.5753 - val_accuracy: 0.7043 - val_loss: 0.5737\n",
      "Epoch 27/50\n",
      "\u001b[1m88/88\u001b[0m \u001b[32m━━━━━━━━━━━━━━━━━━━━\u001b[0m\u001b[37m\u001b[0m \u001b[1m1s\u001b[0m 5ms/step - accuracy: 0.7068 - loss: 0.5758 - val_accuracy: 0.7043 - val_loss: 0.5743\n",
      "Epoch 28/50\n",
      "\u001b[1m88/88\u001b[0m \u001b[32m━━━━━━━━━━━━━━━━━━━━\u001b[0m\u001b[37m\u001b[0m \u001b[1m0s\u001b[0m 4ms/step - accuracy: 0.7174 - loss: 0.5662 - val_accuracy: 0.7086 - val_loss: 0.5745\n",
      "Epoch 29/50\n",
      "\u001b[1m88/88\u001b[0m \u001b[32m━━━━━━━━━━━━━━━━━━━━\u001b[0m\u001b[37m\u001b[0m \u001b[1m0s\u001b[0m 4ms/step - accuracy: 0.7290 - loss: 0.5575 - val_accuracy: 0.7071 - val_loss: 0.5745\n"
     ]
    }
   ],
   "source": [
    "model.compile(optimizer=Adam(learning_rate=0.001), loss='binary_crossentropy', metrics=['accuracy'])\n",
    "early_stop = EarlyStopping(monitor='val_loss', patience=5, restore_best_weights=True)\n",
    "\n",
    "# Train Model\n",
    "history = model.fit(\n",
    "    X_train, y_train,\n",
    "    validation_split=0.2,\n",
    "    epochs=50,\n",
    "    batch_size=32,\n",
    "    callbacks=[early_stop],\n",
    "    verbose=1\n",
    ")"
   ]
  },
  {
   "cell_type": "markdown",
   "id": "286bb3fa-4b7e-4de6-a212-d2a75429ca28",
   "metadata": {},
   "source": [
    "## 📈 Model Evaluation\n",
    "\n",
    "Display classification report and confusion matrix to evaluate performance."
   ]
  },
  {
   "cell_type": "code",
   "execution_count": 20,
   "id": "4b208bb9-420e-407b-a526-07a07c8df6ae",
   "metadata": {},
   "outputs": [
    {
     "name": "stdout",
     "output_type": "stream",
     "text": [
      "\u001b[1m47/47\u001b[0m \u001b[32m━━━━━━━━━━━━━━━━━━━━\u001b[0m\u001b[37m\u001b[0m \u001b[1m0s\u001b[0m 2ms/step\n",
      "\n",
      "Classification Report:\n",
      "               precision    recall  f1-score   support\n",
      "\n",
      "           0       0.76      0.83      0.80       936\n",
      "           1       0.67      0.58      0.62       564\n",
      "\n",
      "    accuracy                           0.73      1500\n",
      "   macro avg       0.72      0.70      0.71      1500\n",
      "weighted avg       0.73      0.73      0.73      1500\n",
      "\n",
      "\n",
      "Confusion Matrix:\n",
      " [[776 160]\n",
      " [239 325]]\n"
     ]
    }
   ],
   "source": [
    "# Evaluate Model\n",
    "y_pred = (model.predict(X_test) > 0.5).astype(\"int32\")\n",
    "print(\"\\nClassification Report:\\n\", classification_report(y_test, y_pred))\n",
    "print(\"\\nConfusion Matrix:\\n\", confusion_matrix(y_test, y_pred))"
   ]
  },
  {
   "cell_type": "markdown",
   "id": "c94b6f44-dc19-423c-9713-f77ee432740d",
   "metadata": {},
   "source": [
    "## 📊 Training History\n",
    "\n",
    "Visualize accuracy and loss across epochs for both training and validation sets."
   ]
  },
  {
   "cell_type": "code",
   "execution_count": 22,
   "id": "73f5e87e-f074-4a19-9261-dce35100ae36",
   "metadata": {},
   "outputs": [
    {
     "data": {
      "image/png": "[encoded data removed]",
      "text/plain": [
       "<Figure size 1200x500 with 2 Axes>"
      ]
     },
     "metadata": {},
     "output_type": "display_data"
    }
   ],
   "source": [
    "# Plot Accuracy and Loss\n",
    "acc = history.history['accuracy']\n",
    "val_acc = history.history['val_accuracy']\n",
    "loss = history.history['loss']\n",
    "val_loss = history.history['val_loss']\n",
    "epochs = range(1, len(acc) + 1)\n",
    "\n",
    "plt.figure(figsize=(12, 5))\n",
    "plt.subplot(1, 2, 1)\n",
    "plt.plot(epochs, acc, 'bo-', label='Training Accuracy')\n",
    "plt.plot(epochs, val_acc, 'ro-', label='Validation Accuracy')\n",
    "plt.title('Training vs. Validation Accuracy')\n",
    "plt.xlabel('Epochs')\n",
    "plt.ylabel('Accuracy')\n",
    "plt.legend()\n",
    "\n",
    "plt.subplot(1, 2, 2)\n",
    "plt.plot(epochs, loss, 'bo-', label='Training Loss')\n",
    "plt.plot(epochs, val_loss, 'ro-', label='Validation Loss')\n",
    "plt.title('Training vs. Validation Loss')\n",
    "plt.xlabel('Epochs')\n",
    "plt.ylabel('Loss')\n",
    "plt.legend()\n",
    "\n",
    "plt.tight_layout()\n",
    "plt.show()\n"
   ]
  },
  {
   "cell_type": "code",
   "execution_count": null,
   "id": "554a1afd-4a83-4795-8682-9ffdcd9efdeb",
   "metadata": {},
   "outputs": [],
   "source": []
  },
  {
   "cell_type": "code",
   "execution_count": 23,
   "id": "46a6055b-f8bc-4d06-b466-cbbd1e49873f",
   "metadata": {},
   "outputs": [
    {
     "name": "stdout",
     "output_type": "stream",
     "text": [
      "\n",
      "Final Epoch Metrics:\n",
      "Training Accuracy     : 0.7250\n",
      "Validation Accuracy   : 0.7071\n",
      "Training Loss         : 0.5669\n",
      "Validation Loss       : 0.5745\n"
     ]
    }
   ],
   "source": [
    "# Final Metrics\n",
    "final_epoch = len(acc) - 1\n",
    "print(\"\\nFinal Epoch Metrics:\")\n",
    "print(f\"Training Accuracy     : {acc[final_epoch]:.4f}\")\n",
    "print(f\"Validation Accuracy   : {val_acc[final_epoch]:.4f}\")\n",
    "print(f\"Training Loss         : {loss[final_epoch]:.4f}\")\n",
    "print(f\"Validation Loss       : {val_loss[final_epoch]:.4f}\")"
   ]
  },
  {
   "cell_type": "code",
   "execution_count": null,
   "id": "fa5e77cd-0877-43ae-8741-cda076003234",
   "metadata": {},
   "outputs": [],
   "source": []
  }
 ],
 "metadata": {
  "kernelspec": {
   "display_name": "Python [conda env:base] *",
   "language": "python",
   "name": "conda-base-py"
  },
  "language_info": {
   "codemirror_mode": {
    "name": "ipython",
    "version": 3
   },
   "file_extension": ".py",
   "mimetype": "text/x-python",
   "name": "python",
   "nbconvert_exporter": "python",
   "pygments_lexer": "ipython3",
   "version": "3.12.7"
  }
 },
 "nbformat": 4,
 "nbformat_minor": 5
}
